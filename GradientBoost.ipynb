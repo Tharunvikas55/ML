{
  "nbformat": 4,
  "nbformat_minor": 0,
  "metadata": {
    "colab": {
      "provenance": [],
      "mount_file_id": "1dliXbvcwcR3eJUR-LEhh0syj-r28rGni",
      "authorship_tag": "ABX9TyOF+yHrp2xkqFtQI17VbQst",
      "include_colab_link": true
    },
    "kernelspec": {
      "name": "python3",
      "display_name": "Python 3"
    },
    "language_info": {
      "name": "python"
    }
  },
  "cells": [
    {
      "cell_type": "markdown",
      "metadata": {
        "id": "view-in-github",
        "colab_type": "text"
      },
      "source": [
        "<a href=\"https://colab.research.google.com/github/Tharunvikas55/ML/blob/main/GradientBoost.ipynb\" target=\"_parent\"><img src=\"https://colab.research.google.com/assets/colab-badge.svg\" alt=\"Open In Colab\"/></a>"
      ]
    },
    {
      "cell_type": "code",
      "execution_count": null,
      "metadata": {
        "id": "dCb76LabWiaG"
      },
      "outputs": [],
      "source": [
        "import numpy as np\n",
        "import pandas as pd\n",
        "import matplotlib.pyplot as plt\n"
      ]
    },
    {
      "cell_type": "code",
      "source": [
        "test = pd.read_csv(\"https://raw.githubusercontent.com/nunnarilabs/ml/master/titanic/test.csv\")\n",
        "train =pd.read_csv(\"https://raw.githubusercontent.com/nunnarilabs/ml/master/titanic/train.csv\")"
      ],
      "metadata": {
        "id": "hA4QHUxMWmyb"
      },
      "execution_count": null,
      "outputs": []
    },
    {
      "cell_type": "code",
      "source": [
        "train.info(),test.info()"
      ],
      "metadata": {
        "colab": {
          "base_uri": "https://localhost:8080/"
        },
        "id": "o754HiENWmvM",
        "outputId": "b40711d2-6502-422b-c1c4-79d2b1046fb1"
      },
      "execution_count": null,
      "outputs": [
        {
          "output_type": "stream",
          "name": "stdout",
          "text": [
            "Found 2142 images belonging to 2 classes.\n"
          ]
        }
      ]
    },
    {
      "cell_type": "code",
      "source": [
        "train.set_index(\"PassengerId\",inplace=True)\n",
        "test.set_index(\"PassengerId\",inplace=True)\n"
      ],
      "metadata": {
        "id": "PBEdGv_bWmsu"
      },
      "execution_count": null,
      "outputs": []
    },
    {
      "cell_type": "code",
      "source": [
        "train"
      ],
      "metadata": {
        "id": "At3aE8-oWmqS"
      },
      "execution_count": null,
      "outputs": []
    },
    {
      "cell_type": "code",
      "source": [
        "y_train =train[\"Survived\"]"
      ],
      "metadata": {
        "id": "-WAxD3MUWmn9"
      },
      "execution_count": null,
      "outputs": []
    },
    {
      "cell_type": "code",
      "source": [
        "train.drop(labels=\"Survived\",axis=1,inplace=True)"
      ],
      "metadata": {
        "id": "keanKmxwWmlY"
      },
      "execution_count": null,
      "outputs": []
    },
    {
      "cell_type": "code",
      "source": [
        "train.shape"
      ],
      "metadata": {
        "id": "PUx4lFgLWmiu"
      },
      "execution_count": null,
      "outputs": []
    },
    {
      "cell_type": "code",
      "source": [
        "train_test=train.append(test)"
      ],
      "metadata": {
        "id": "Sp9vfZXuU3xd"
      },
      "execution_count": null,
      "outputs": []
    },
    {
      "cell_type": "code",
      "source": [
        "columns_to_drop =[\"Name\",\"Age\",\"SibSp\",\"Ticket\",\"Cabin\",\"Parch\",\"Embarked\"]\n",
        "train_test.drop(labels=columns_to_drop,axis=1,inplace=True)"
      ],
      "metadata": {
        "id": "qaRqvUQpU3uA"
      },
      "execution_count": null,
      "outputs": []
    },
    {
      "cell_type": "code",
      "source": [
        "train"
      ],
      "metadata": {
        "id": "_cY2FUYYU3rc"
      },
      "execution_count": null,
      "outputs": []
    },
    {
      "cell_type": "code",
      "source": [],
      "metadata": {
        "id": "X_4LTX_UWmTC"
      },
      "execution_count": null,
      "outputs": []
    }
  ]
}