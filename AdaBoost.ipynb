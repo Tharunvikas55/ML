{
  "nbformat": 4,
  "nbformat_minor": 0,
  "metadata": {
    "colab": {
      "provenance": [],
      "authorship_tag": "ABX9TyO08pMaJrVSCHIBXA0khLuM",
      "include_colab_link": true
    },
    "kernelspec": {
      "name": "python3",
      "display_name": "Python 3"
    },
    "language_info": {
      "name": "python"
    }
  },
  "cells": [
    {
      "cell_type": "markdown",
      "metadata": {
        "id": "view-in-github",
        "colab_type": "text"
      },
      "source": [
        "<a href=\"https://colab.research.google.com/github/Tharunvikas55/ML/blob/main/AdaBoost.ipynb\" target=\"_parent\"><img src=\"https://colab.research.google.com/assets/colab-badge.svg\" alt=\"Open In Colab\"/></a>"
      ]
    },
    {
      "cell_type": "code",
      "execution_count": 1,
      "metadata": {
        "id": "9-SN4L3mnezQ"
      },
      "outputs": [],
      "source": [
        "import numpy as np\n",
        "import pandas as pd\n",
        "import matplotlib.pyplot as plt\n"
      ]
    },
    {
      "cell_type": "code",
      "source": [
        "test = pd.read_csv(\"https://raw.githubusercontent.com/nunnarilabs/ml/master/titanic/test.csv\")\n",
        "train =pd.read_csv(\"https://raw.githubusercontent.com/nunnarilabs/ml/master/titanic/train.csv\")"
      ],
      "metadata": {
        "id": "o73P42bBSo1Q"
      },
      "execution_count": 2,
      "outputs": []
    },
    {
      "cell_type": "code",
      "source": [
        "train.info(),test.info()"
      ],
      "metadata": {
        "colab": {
          "base_uri": "https://localhost:8080/"
        },
        "id": "_MssvwbaSox0",
        "outputId": "0939f435-1438-4c4c-f293-252931729cc7"
      },
      "execution_count": 3,
      "outputs": [
        {
          "output_type": "stream",
          "name": "stdout",
          "text": [
            "<class 'pandas.core.frame.DataFrame'>\n",
            "RangeIndex: 891 entries, 0 to 890\n",
            "Data columns (total 12 columns):\n",
            " #   Column       Non-Null Count  Dtype  \n",
            "---  ------       --------------  -----  \n",
            " 0   PassengerId  891 non-null    int64  \n",
            " 1   Survived     891 non-null    int64  \n",
            " 2   Pclass       891 non-null    int64  \n",
            " 3   Name         891 non-null    object \n",
            " 4   Sex          891 non-null    object \n",
            " 5   Age          714 non-null    float64\n",
            " 6   SibSp        891 non-null    int64  \n",
            " 7   Parch        891 non-null    int64  \n",
            " 8   Ticket       891 non-null    object \n",
            " 9   Fare         891 non-null    float64\n",
            " 10  Cabin        204 non-null    object \n",
            " 11  Embarked     889 non-null    object \n",
            "dtypes: float64(2), int64(5), object(5)\n",
            "memory usage: 83.7+ KB\n",
            "<class 'pandas.core.frame.DataFrame'>\n",
            "RangeIndex: 418 entries, 0 to 417\n",
            "Data columns (total 11 columns):\n",
            " #   Column       Non-Null Count  Dtype  \n",
            "---  ------       --------------  -----  \n",
            " 0   PassengerId  418 non-null    int64  \n",
            " 1   Pclass       418 non-null    int64  \n",
            " 2   Name         418 non-null    object \n",
            " 3   Sex          418 non-null    object \n",
            " 4   Age          332 non-null    float64\n",
            " 5   SibSp        418 non-null    int64  \n",
            " 6   Parch        418 non-null    int64  \n",
            " 7   Ticket       418 non-null    object \n",
            " 8   Fare         417 non-null    float64\n",
            " 9   Cabin        91 non-null     object \n",
            " 10  Embarked     418 non-null    object \n",
            "dtypes: float64(2), int64(4), object(5)\n",
            "memory usage: 36.0+ KB\n"
          ]
        },
        {
          "output_type": "execute_result",
          "data": {
            "text/plain": [
              "(None, None)"
            ]
          },
          "metadata": {},
          "execution_count": 3
        }
      ]
    },
    {
      "cell_type": "code",
      "source": [
        "train.set_index(\"PassengerId\",inplace=True)\n",
        "test.set_index(\"PassengerId\",inplace=True)"
      ],
      "metadata": {
        "id": "-qwOI19KSovT"
      },
      "execution_count": 4,
      "outputs": []
    },
    {
      "cell_type": "code",
      "source": [
        "y_train =train[\"Survived\"]"
      ],
      "metadata": {
        "id": "pgABKrGySotA"
      },
      "execution_count": 5,
      "outputs": []
    },
    {
      "cell_type": "code",
      "source": [
        "train.drop(labels=\"Survived\",axis=1,inplace=True)"
      ],
      "metadata": {
        "id": "ub33sDB-Soqc"
      },
      "execution_count": 6,
      "outputs": []
    },
    {
      "cell_type": "code",
      "source": [
        "train.shape"
      ],
      "metadata": {
        "colab": {
          "base_uri": "https://localhost:8080/"
        },
        "id": "JpUtDWNpS3E0",
        "outputId": "75401e47-66c6-4ebc-854a-b5bffa27ff8c"
      },
      "execution_count": 7,
      "outputs": [
        {
          "output_type": "execute_result",
          "data": {
            "text/plain": [
              "(891, 10)"
            ]
          },
          "metadata": {},
          "execution_count": 7
        }
      ]
    },
    {
      "cell_type": "code",
      "source": [
        "train_test=train.append(test)"
      ],
      "metadata": {
        "colab": {
          "base_uri": "https://localhost:8080/"
        },
        "id": "XvaSR0XtS3Bd",
        "outputId": "0ffaf399-1150-4d48-bd80-efdefb8a1baf"
      },
      "execution_count": 8,
      "outputs": [
        {
          "output_type": "stream",
          "name": "stderr",
          "text": [
            "<ipython-input-8-d2734cde2921>:1: FutureWarning: The frame.append method is deprecated and will be removed from pandas in a future version. Use pandas.concat instead.\n",
            "  train_test=train.append(test)\n"
          ]
        }
      ]
    },
    {
      "cell_type": "code",
      "source": [
        "columns_to_drop =[\"Name\",\"Age\",\"SibSp\",\"Ticket\",\"Cabin\",\"Parch\",\"Embarked\"]\n",
        "train_test.drop(labels=columns_to_drop,axis=1,inplace=True)"
      ],
      "metadata": {
        "id": "z90xzQnhS2_b"
      },
      "execution_count": 9,
      "outputs": []
    },
    {
      "cell_type": "code",
      "source": [
        "train_test_dummies =pd.get_dummies(train_test,columns =[\"Sex\"])"
      ],
      "metadata": {
        "id": "Z-G9_3s6S29I"
      },
      "execution_count": 10,
      "outputs": []
    },
    {
      "cell_type": "code",
      "source": [
        "train_test_dummies.shape"
      ],
      "metadata": {
        "colab": {
          "base_uri": "https://localhost:8080/"
        },
        "id": "Y1Dkxi7SS269",
        "outputId": "98e1478d-8d63-4c44-942a-a3fe2ababe4d"
      },
      "execution_count": 11,
      "outputs": [
        {
          "output_type": "execute_result",
          "data": {
            "text/plain": [
              "(1309, 4)"
            ]
          },
          "metadata": {},
          "execution_count": 11
        }
      ]
    },
    {
      "cell_type": "code",
      "source": [
        "train_test_dummies.isnull().sum()"
      ],
      "metadata": {
        "colab": {
          "base_uri": "https://localhost:8080/"
        },
        "id": "lYXlLSrKS24m",
        "outputId": "156043e5-8467-4929-acef-25860475d15f"
      },
      "execution_count": 12,
      "outputs": [
        {
          "output_type": "execute_result",
          "data": {
            "text/plain": [
              "Pclass        0\n",
              "Fare          1\n",
              "Sex_female    0\n",
              "Sex_male      0\n",
              "dtype: int64"
            ]
          },
          "metadata": {},
          "execution_count": 12
        }
      ]
    },
    {
      "cell_type": "code",
      "source": [
        "train_test_dummies.fillna(value=0.0, inplace=True)"
      ],
      "metadata": {
        "id": "WIhwqGFhTIIM"
      },
      "execution_count": 13,
      "outputs": []
    },
    {
      "cell_type": "code",
      "source": [
        "X_train=train_test_dummies.values[0:891]\n",
        "X_test=train_test_dummies.values[891:]"
      ],
      "metadata": {
        "id": "TVFiVOcUTIEx"
      },
      "execution_count": 14,
      "outputs": []
    },
    {
      "cell_type": "code",
      "source": [
        "from sklearn.preprocessing import MinMaxScaler\n",
        "scaler =MinMaxScaler()\n",
        "X_train_scale =scaler.fit_transform(X_train)\n",
        "X_test_scale =scaler.transform(X_test)"
      ],
      "metadata": {
        "id": "4REjUtA1TICz"
      },
      "execution_count": 15,
      "outputs": []
    },
    {
      "cell_type": "code",
      "source": [
        "# split training feature and target sets into training and validation subsets\n",
        "from sklearn.model_selection import train_test_split\n",
        "\n",
        "X_train_sub, X_validation_sub, y_train_sub, y_validation_sub = train_test_split(X_train_scale, y_train, random_state=0)"
      ],
      "metadata": {
        "id": "ACJlcPhBTIAq"
      },
      "execution_count": 16,
      "outputs": []
    },
    {
      "cell_type": "code",
      "source": [
        "from sklearn.ensemble import AdaBoostClassifier\n",
        "from sklearn.metrics import classification_report, confusion_matrix"
      ],
      "metadata": {
        "id": "VT-tGphUTWV1"
      },
      "execution_count": 17,
      "outputs": []
    },
    {
      "cell_type": "code",
      "source": [
        "learning_rates = [0.05, 0.1, 0.25, 0.5, 0.75, 1]\n",
        "\n",
        "for learning_rate in learning_rates:\n",
        "    ada = AdaBoostClassifier(n_estimators=20, learning_rate=learning_rate, random_state=0)\n",
        "    ada.fit(X_train_sub, y_train_sub)\n",
        "\n",
        "    print(\"Learning rate:\", learning_rate)\n",
        "    print(\"Accuracy score (training): {:.3f}\".format(ada.score(X_train_sub, y_train_sub)))\n",
        "    print(\"Accuracy score (validation): {:.3f}\".format(ada.score(X_validation_sub, y_validation_sub)))\n",
        "    print()"
      ],
      "metadata": {
        "colab": {
          "base_uri": "https://localhost:8080/"
        },
        "id": "kr_BFCu6TWSd",
        "outputId": "bffa68dc-80d6-4ba1-9ff1-00ed7210c0b0"
      },
      "execution_count": 18,
      "outputs": [
        {
          "output_type": "stream",
          "name": "stdout",
          "text": [
            "Learning rate: 0.05\n",
            "Accuracy score (training): 0.789\n",
            "Accuracy score (validation): 0.780\n",
            "\n",
            "Learning rate: 0.1\n",
            "Accuracy score (training): 0.789\n",
            "Accuracy score (validation): 0.780\n",
            "\n",
            "Learning rate: 0.25\n",
            "Accuracy score (training): 0.792\n",
            "Accuracy score (validation): 0.780\n",
            "\n",
            "Learning rate: 0.5\n",
            "Accuracy score (training): 0.795\n",
            "Accuracy score (validation): 0.776\n",
            "\n",
            "Learning rate: 0.75\n",
            "Accuracy score (training): 0.798\n",
            "Accuracy score (validation): 0.776\n",
            "\n",
            "Learning rate: 1\n",
            "Accuracy score (training): 0.804\n",
            "Accuracy score (validation): 0.776\n",
            "\n"
          ]
        }
      ]
    },
    {
      "cell_type": "code",
      "source": [
        "from sklearn.ensemble import AdaBoostClassifier\n",
        "from sklearn.tree import DecisionTreeClassifier\n",
        "\n",
        "learning_rates = [0.05, 0.1, 0.25, 0.5, 0.75, 1]\n",
        "\n",
        "for learning_rate in learning_rates:\n",
        "    # Increased the number of estimators and used a slightly deeper tree\n",
        "    ada = AdaBoostClassifier(\n",
        "        base_estimator=DecisionTreeClassifier(max_depth=3),  # You can tune max_depth or other parameters here\n",
        "        n_estimators=100,  # Increased from 40 to 100\n",
        "        learning_rate=learning_rate,\n",
        "        random_state=0\n",
        "    )\n",
        "    ada.fit(X_train_sub, y_train_sub)\n",
        "\n",
        "    print(\"Learning rate:\", learning_rate)\n",
        "    print(\"Accuracy score (training): {:.3f}\".format(ada.score(X_train_sub, y_train_sub)))\n",
        "    print(\"Accuracy score (validation): {:.3f}\".format(ada.score(X_validation_sub, y_validation_sub)))\n",
        "    print()\n"
      ],
      "metadata": {
        "colab": {
          "base_uri": "https://localhost:8080/"
        },
        "id": "ucK1Orh7TWQT",
        "outputId": "b297c16c-f284-4a14-c0dc-98a7c3e94c68"
      },
      "execution_count": 19,
      "outputs": [
        {
          "output_type": "stream",
          "name": "stderr",
          "text": [
            "/usr/local/lib/python3.10/dist-packages/sklearn/ensemble/_base.py:166: FutureWarning: `base_estimator` was renamed to `estimator` in version 1.2 and will be removed in 1.4.\n",
            "  warnings.warn(\n"
          ]
        },
        {
          "output_type": "stream",
          "name": "stdout",
          "text": [
            "Learning rate: 0.05\n",
            "Accuracy score (training): 0.873\n",
            "Accuracy score (validation): 0.803\n",
            "\n"
          ]
        },
        {
          "output_type": "stream",
          "name": "stderr",
          "text": [
            "/usr/local/lib/python3.10/dist-packages/sklearn/ensemble/_base.py:166: FutureWarning: `base_estimator` was renamed to `estimator` in version 1.2 and will be removed in 1.4.\n",
            "  warnings.warn(\n"
          ]
        },
        {
          "output_type": "stream",
          "name": "stdout",
          "text": [
            "Learning rate: 0.1\n",
            "Accuracy score (training): 0.900\n",
            "Accuracy score (validation): 0.807\n",
            "\n"
          ]
        },
        {
          "output_type": "stream",
          "name": "stderr",
          "text": [
            "/usr/local/lib/python3.10/dist-packages/sklearn/ensemble/_base.py:166: FutureWarning: `base_estimator` was renamed to `estimator` in version 1.2 and will be removed in 1.4.\n",
            "  warnings.warn(\n"
          ]
        },
        {
          "output_type": "stream",
          "name": "stdout",
          "text": [
            "Learning rate: 0.25\n",
            "Accuracy score (training): 0.906\n",
            "Accuracy score (validation): 0.807\n",
            "\n"
          ]
        },
        {
          "output_type": "stream",
          "name": "stderr",
          "text": [
            "/usr/local/lib/python3.10/dist-packages/sklearn/ensemble/_base.py:166: FutureWarning: `base_estimator` was renamed to `estimator` in version 1.2 and will be removed in 1.4.\n",
            "  warnings.warn(\n"
          ]
        },
        {
          "output_type": "stream",
          "name": "stdout",
          "text": [
            "Learning rate: 0.5\n",
            "Accuracy score (training): 0.906\n",
            "Accuracy score (validation): 0.803\n",
            "\n"
          ]
        },
        {
          "output_type": "stream",
          "name": "stderr",
          "text": [
            "/usr/local/lib/python3.10/dist-packages/sklearn/ensemble/_base.py:166: FutureWarning: `base_estimator` was renamed to `estimator` in version 1.2 and will be removed in 1.4.\n",
            "  warnings.warn(\n"
          ]
        },
        {
          "output_type": "stream",
          "name": "stdout",
          "text": [
            "Learning rate: 0.75\n",
            "Accuracy score (training): 0.906\n",
            "Accuracy score (validation): 0.803\n",
            "\n"
          ]
        },
        {
          "output_type": "stream",
          "name": "stderr",
          "text": [
            "/usr/local/lib/python3.10/dist-packages/sklearn/ensemble/_base.py:166: FutureWarning: `base_estimator` was renamed to `estimator` in version 1.2 and will be removed in 1.4.\n",
            "  warnings.warn(\n"
          ]
        },
        {
          "output_type": "stream",
          "name": "stdout",
          "text": [
            "Learning rate: 1\n",
            "Accuracy score (training): 0.906\n",
            "Accuracy score (validation): 0.816\n",
            "\n"
          ]
        }
      ]
    },
    {
      "cell_type": "code",
      "source": [],
      "metadata": {
        "id": "SlrER9UvTWOO"
      },
      "execution_count": 19,
      "outputs": []
    },
    {
      "cell_type": "code",
      "source": [],
      "metadata": {
        "id": "0GdBQ_QiSooC"
      },
      "execution_count": 19,
      "outputs": []
    }
  ]
}