{
  "nbformat": 4,
  "nbformat_minor": 0,
  "metadata": {
    "colab": {
      "provenance": [],
      "authorship_tag": "ABX9TyPECtB4Y8TsTXnZidMF3a3k",
      "include_colab_link": true
    },
    "kernelspec": {
      "name": "python3",
      "display_name": "Python 3"
    },
    "language_info": {
      "name": "python"
    }
  },
  "cells": [
    {
      "cell_type": "markdown",
      "metadata": {
        "id": "view-in-github",
        "colab_type": "text"
      },
      "source": [
        "<a href=\"https://colab.research.google.com/github/Tharunvikas55/ML/blob/main/CNN_Tensorflow.ipynb\" target=\"_parent\"><img src=\"https://colab.research.google.com/assets/colab-badge.svg\" alt=\"Open In Colab\"/></a>"
      ]
    },
    {
      "cell_type": "code",
      "execution_count": 60,
      "metadata": {
        "id": "X9u6Fqgr6gSK"
      },
      "outputs": [],
      "source": [
        "import tensorflow as tf\n",
        "from keras import layers,models\n",
        "from keras.datasets import fashion_mnist\n",
        "from keras.utils import to_categorical"
      ]
    },
    {
      "cell_type": "code",
      "source": [
        "(train_images,train_labels),(test_images,test_labels)=fashion_mnist.load_data()"
      ],
      "metadata": {
        "id": "m3FFxH9_7ony"
      },
      "execution_count": 61,
      "outputs": []
    },
    {
      "cell_type": "code",
      "source": [
        "train_images,test_images=train_images/255.0,test_images/255.0"
      ],
      "metadata": {
        "id": "mcWqVf8o70v2"
      },
      "execution_count": 62,
      "outputs": []
    },
    {
      "cell_type": "code",
      "source": [
        "train_labels=to_categorical(train_labels)\n",
        "test_labels=to_categorical(test_labels)"
      ],
      "metadata": {
        "id": "BFoRGPbI8S78"
      },
      "execution_count": 63,
      "outputs": []
    },
    {
      "cell_type": "code",
      "source": [
        "# train_labels=to_categorical(train_images)\n",
        "# test_lables=to_categorical(test_images)"
      ],
      "metadata": {
        "id": "jqoU9gKp8zCz"
      },
      "execution_count": 64,
      "outputs": []
    },
    {
      "cell_type": "code",
      "source": [
        "# model=models.sequential()\n",
        "# model.add(layers.Conv2D(32,3,3),activation=\"relu\",input_shape=(28,28,1))\n",
        "# model.add(layers.MaxPooling2D((2,2)))\n",
        "# model.add(layers.Conv2D(64,3,3),activation=\"relu\")\n",
        "# model.add(layers.MaxPooling2D(2,2))\n",
        "# model.add(layers.Conv2D(32,(3,3),activation='relu'))\n",
        "model=models.Sequential()\n",
        "model.add(layers.Conv2D(32,(3,3),activation='relu',input_shape=(28,28,1)))\n",
        "model.add(layers.MaxPooling2D((2,2)))\n",
        "model.add(layers.Conv2D(64,(3,3),activation='relu'))\n",
        "model.add(layers.MaxPooling2D((2,2)))\n",
        "model.add(layers.Conv2D(64,(3,3),activation='relu'))\n"
      ],
      "metadata": {
        "id": "eBF-ritB9qFv"
      },
      "execution_count": 65,
      "outputs": []
    },
    {
      "cell_type": "code",
      "source": [
        "model.add(layers.Flatten())\n",
        "model.add(layers.Dense(64,activation='relu'))\n",
        "model.add(layers.Dense(10,activation='softmax'))"
      ],
      "metadata": {
        "id": "bi0E-9i1_Muw"
      },
      "execution_count": 66,
      "outputs": []
    },
    {
      "cell_type": "code",
      "source": [
        "\n",
        "model.compile(optimizer='adam',\n",
        "              loss='categorical_crossentropy',\n",
        "              metrics=['accuracy'])"
      ],
      "metadata": {
        "id": "2q0z9VmC_7am"
      },
      "execution_count": 67,
      "outputs": []
    },
    {
      "cell_type": "code",
      "source": [
        "model.fit(train_images, train_labels, epochs=10, validation_data=(test_images, test_labels))"
      ],
      "metadata": {
        "colab": {
          "base_uri": "https://localhost:8080/"
        },
        "id": "B9-qPdJbAKE3",
        "outputId": "efaa84cf-6567-419d-96a0-92ab199a6ccc"
      },
      "execution_count": null,
      "outputs": [
        {
          "output_type": "stream",
          "name": "stdout",
          "text": [
            "Epoch 1/10\n",
            "1875/1875 [==============================] - ETA: 0s - loss: 0.5073 - accuracy: 0.8133"
          ]
        }
      ]
    },
    {
      "cell_type": "code",
      "source": [],
      "metadata": {
        "id": "GLK45cR-Akqo"
      },
      "execution_count": null,
      "outputs": []
    }
  ]
}