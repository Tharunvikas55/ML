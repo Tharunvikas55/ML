{
  "nbformat": 4,
  "nbformat_minor": 0,
  "metadata": {
    "colab": {
      "provenance": [],
      "authorship_tag": "ABX9TyPFW4NccJQ+7brdQvhh6GQI",
      "include_colab_link": true
    },
    "kernelspec": {
      "name": "python3",
      "display_name": "Python 3"
    },
    "language_info": {
      "name": "python"
    }
  },
  "cells": [
    {
      "cell_type": "markdown",
      "metadata": {
        "id": "view-in-github",
        "colab_type": "text"
      },
      "source": [
        "<a href=\"https://colab.research.google.com/github/Tharunvikas55/ML/blob/main/LightGBM.ipynb\" target=\"_parent\"><img src=\"https://colab.research.google.com/assets/colab-badge.svg\" alt=\"Open In Colab\"/></a>"
      ]
    },
    {
      "cell_type": "code",
      "execution_count": null,
      "metadata": {
        "id": "tGpoeZ6eLpYh"
      },
      "outputs": [],
      "source": [
        "import numpy as np\n",
        "import pandas as pd\n",
        "from lightgbm import LGBMClassifier\n",
        "from sklearn.model_selection import train_test_split\n",
        "from sklearn.metrics import accuracy_score"
      ]
    },
    {
      "cell_type": "code",
      "source": [
        "df =pd.read_csv(\"https://raw.githubusercontent.com/ezioauditore-tech/AI/main/datasets/Breast_cancer_data.csv\")\n",
        "df"
      ],
      "metadata": {
        "id": "sxXnUpREQ-iv"
      },
      "execution_count": null,
      "outputs": []
    },
    {
      "cell_type": "code",
      "source": [
        "df.isnull().sum()"
      ],
      "metadata": {
        "id": "ex90UneNQ-fR"
      },
      "execution_count": null,
      "outputs": []
    },
    {
      "cell_type": "code",
      "source": [
        "X = df.drop('diagnosis', axis=1)\n",
        "y = df['diagnosis']"
      ],
      "metadata": {
        "id": "bzlaezaaQ-cx"
      },
      "execution_count": null,
      "outputs": []
    },
    {
      "cell_type": "code",
      "source": [
        "X_train, X_val, y_train, y_val = train_test_split(X, y, test_size=0.2, random_state=42)\n"
      ],
      "metadata": {
        "id": "RJgkBkS0Q-ah"
      },
      "execution_count": null,
      "outputs": []
    },
    {
      "cell_type": "code",
      "source": [
        "from sklearn.metrics import accuracy_score\n",
        "\n",
        "# Initialize and train the model\n",
        "model = LGBMClassifier(iterations=100, learning_rate=0.05,depth=9, l2_leaf_reg=4,border_count=60,verbose=50)\n",
        "\n",
        "model.fit(X_train,  y_train)\n",
        "y_pred = model.predict(X_val)\n",
        "accuracy = accuracy_score(y_val, y_pred)\n",
        "print(f\"Accuracy: {accuracy * 100:.2f}%\")\n"
      ],
      "metadata": {
        "id": "TZNggVyOQ-YQ"
      },
      "execution_count": null,
      "outputs": []
    },
    {
      "cell_type": "markdown",
      "source": [
        "LightGBM Regressor"
      ],
      "metadata": {
        "id": "7ge2RqcIRS4r"
      }
    },
    {
      "cell_type": "code",
      "source": [
        "from sklearn.metrics import r2_score, mean_squared_error\n",
        "import lightgbm as lgb"
      ],
      "metadata": {
        "id": "aGxkHvUrQ-V9"
      },
      "execution_count": null,
      "outputs": []
    },
    {
      "cell_type": "code",
      "source": [
        "# Initialize the LightGBM Regressor with desired parameters\n",
        "model = lgb.LGBMRegressor(iterations=100, learning_rate=0.05,max_depth=8,\n",
        "                          min_child_samples=20,\n",
        "                          subsample=0.8,\n",
        "                          colsample_bytree=0.8)\n",
        "\n",
        "# Train the model\n",
        "model.fit(X_train, y_train,\n",
        "          eval_set=[(X_val, y_val)],\n",
        "          eval_metric='rmse',  # Using RMSE as the evaluation metric\n",
        ")\n"
      ],
      "metadata": {
        "id": "t8zrCndaQ-Ty"
      },
      "execution_count": null,
      "outputs": []
    },
    {
      "cell_type": "code",
      "source": [
        "# Make predictions on the validation set\n",
        "y_pred = model.predict(X_val, num_iteration=model.best_iteration_)\n",
        "\n",
        "# Compute and print the R-squared and RMSE values\n",
        "r2 = r2_score(y_val, y_pred)\n",
        "rmse = mean_squared_error(y_val, y_pred, squared=False)\n",
        "print(f\"R-squared: {r2:.4f}\")\n",
        "print(f\"RMSE: {rmse:.4f}\")\n"
      ],
      "metadata": {
        "id": "wunNKAcKQ-Rb"
      },
      "execution_count": null,
      "outputs": []
    }
  ]
}